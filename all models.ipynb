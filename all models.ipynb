{
 "cells": [
  {
   "cell_type": "code",
   "execution_count": 1,
   "id": "ba10434d-bffb-4f72-8d15-364e9b79910e",
   "metadata": {},
   "outputs": [],
   "source": [
    "import pandas as pd \n",
    "import numpy as np"
   ]
  },
  {
   "cell_type": "code",
   "execution_count": 3,
   "id": "62808f63-b201-4b8c-8fef-3d6e190187a9",
   "metadata": {},
   "outputs": [],
   "source": [
    "data=pd.read_csv(r'data_phenotypic.csv')"
   ]
  },
  {
   "cell_type": "code",
   "execution_count": 8,
   "id": "ef5a89f2-e6db-4afd-abb7-bee4b6454c1d",
   "metadata": {},
   "outputs": [],
   "source": [
    "data['DX_GROUP']=data['DX_GROUP'].replace(2,0)"
   ]
  },
  {
   "cell_type": "code",
   "execution_count": 9,
   "id": "aca3bde4-526a-46b2-9ff0-b4e5e4831375",
   "metadata": {},
   "outputs": [],
   "source": [
    "#train test split\n",
    "X = data.drop(\"DX_GROUP\",axis = 1)\n",
    "y = data['DX_GROUP']\n"
   ]
  },
  {
   "cell_type": "code",
   "execution_count": 6,
   "id": "1204c0e7-5001-44db-a0dc-243d25c7c9bb",
   "metadata": {},
   "outputs": [
    {
     "name": "stdout",
     "output_type": "stream",
     "text": [
      "Logistic Regression (Classification) Accuracy: 58.79%\n",
      "Gradient Boosting (Classification) Accuracy: 100.00%\n",
      "Linear Regression (Regression) Mean Squared Error: 0.24\n"
     ]
    }
   ],
   "source": [
    "# Import necessary libraries\n",
    "from sklearn.datasets import load_iris\n",
    "from sklearn.model_selection import train_test_split\n",
    "from sklearn.linear_model import LogisticRegression\n",
    "from sklearn.ensemble import GradientBoostingClassifier\n",
    "from sklearn.linear_model import LinearRegression\n",
    "from sklearn.metrics import accuracy_score, mean_squared_error\n",
    "import numpy as np\n",
    "\n",
    "# Load the Iris dataset\n",
    "\n",
    "# Split the dataset into training and testing sets\n",
    "X_train, X_test, y_train, y_test = train_test_split(X, y, test_size=0.3, random_state=42)\n",
    "\n",
    "# Logistic Regression (Classification)\n",
    "lr_classifier = LogisticRegression(max_iter=10000, random_state=42)\n",
    "lr_classifier.fit(X_train, y_train)\n",
    "lr_predictions = lr_classifier.predict(X_test)\n",
    "lr_accuracy = accuracy_score(y_test, lr_predictions)\n",
    "\n",
    "# Gradient Boosting (Classification)\n",
    "gb_classifier = GradientBoostingClassifier(random_state=42)\n",
    "gb_classifier.fit(X_train, y_train)\n",
    "gb_predictions = gb_classifier.predict(X_test)\n",
    "gb_accuracy = accuracy_score(y_test, gb_predictions)\n",
    "\n",
    "# Linear Regression (Regression)\n",
    "regression_model = LinearRegression()\n",
    "regression_model.fit(X_train, y_train)\n",
    "regression_predictions = regression_model.predict(X_test)\n",
    "regression_mse = mean_squared_error(y_test, regression_predictions)\n",
    "\n",
    "# Compare the results\n",
    "print(\"Logistic Regression (Classification) Accuracy: {:.2f}%\".format(lr_accuracy * 100))\n",
    "print(\"Gradient Boosting (Classification) Accuracy: {:.2f}%\".format(gb_accuracy * 100))\n",
    "print(\"Linear Regression (Regression) Mean Squared Error: {:.2f}\".format(regression_mse))\n"
   ]
  },
  {
   "cell_type": "code",
   "execution_count": 10,
   "id": "2752403a-b9d8-4a47-a293-eb8bac9c3fcc",
   "metadata": {},
   "outputs": [
    {
     "name": "stderr",
     "output_type": "stream",
     "text": [
      "C:\\Users\\chand\\anaconda3\\lib\\site-packages\\sklearn\\neighbors\\_classification.py:228: FutureWarning: Unlike other reduction functions (e.g. `skew`, `kurtosis`), the default behavior of `mode` typically preserves the axis it acts along. In SciPy 1.11.0, this behavior will change: the default value of `keepdims` will become False, the `axis` over which the statistic is taken will be eliminated, and the value None will no longer be accepted. Set `keepdims` to True or False to avoid this warning.\n",
      "  mode, _ = stats.mode(_y[neigh_ind, k], axis=1)\n"
     ]
    },
    {
     "name": "stdout",
     "output_type": "stream",
     "text": [
      "Logistic Regression Accuracy: 58.79%\n",
      "Naive Bayes Accuracy: 57.58%\n",
      "K-Nearest Neighbors Accuracy: 78.48%\n",
      "Decision Tree Accuracy: 99.70%\n",
      "Support Vector Machines Accuracy: 54.85%\n",
      "XGBoost Accuracy: 99.39%\n"
     ]
    }
   ],
   "source": [
    "# Import necessary libraries\n",
    "from sklearn.datasets import load_iris\n",
    "from sklearn.model_selection import train_test_split\n",
    "from sklearn.linear_model import LogisticRegression\n",
    "from sklearn.naive_bayes import GaussianNB\n",
    "from sklearn.neighbors import KNeighborsClassifier\n",
    "from sklearn.tree import DecisionTreeClassifier\n",
    "from sklearn.svm import SVC\n",
    "import xgboost as xgb\n",
    "from sklearn.metrics import accuracy_score\n",
    "\n",
    "X = data.drop(\"DX_GROUP\",axis = 1)\n",
    "y = data['DX_GROUP']\n",
    "\n",
    "# Split the dataset into training and testing sets\n",
    "X_train, X_test, y_train, y_test = train_test_split(X, y, test_size=0.3, random_state=42)\n",
    "\n",
    "# Logistic Regression\n",
    "lr_classifier = LogisticRegression(max_iter=10000, random_state=42)\n",
    "lr_classifier.fit(X_train, y_train)\n",
    "lr_predictions = lr_classifier.predict(X_test)\n",
    "lr_accuracy = accuracy_score(y_test, lr_predictions)\n",
    "\n",
    "# Naive Bayes (Gaussian Naive Bayes)\n",
    "nb_classifier = GaussianNB()\n",
    "nb_classifier.fit(X_train, y_train)\n",
    "nb_predictions = nb_classifier.predict(X_test)\n",
    "nb_accuracy = accuracy_score(y_test, nb_predictions)\n",
    "\n",
    "# K-Nearest Neighbors\n",
    "knn_classifier = KNeighborsClassifier()\n",
    "knn_classifier.fit(X_train, y_train)\n",
    "knn_predictions = knn_classifier.predict(X_test)\n",
    "knn_accuracy = accuracy_score(y_test, knn_predictions)\n",
    "\n",
    "# Decision Tree\n",
    "dt_classifier = DecisionTreeClassifier(random_state=42)\n",
    "dt_classifier.fit(X_train, y_train)\n",
    "dt_predictions = dt_classifier.predict(X_test)\n",
    "dt_accuracy = accuracy_score(y_test, dt_predictions)\n",
    "\n",
    "# Support Vector Machines (SVM)\n",
    "svm_classifier = SVC()\n",
    "svm_classifier.fit(X_train, y_train)\n",
    "svm_predictions = svm_classifier.predict(X_test)\n",
    "svm_accuracy = accuracy_score(y_test, svm_predictions)\n",
    "\n",
    "# XGBoost\n",
    "xgboost_classifier = xgb.XGBClassifier(random_state=42)\n",
    "xgboost_classifier.fit(X_train, y_train)\n",
    "xgboost_predictions = xgboost_classifier.predict(X_test)\n",
    "xgboost_accuracy = accuracy_score(y_test, xgboost_predictions)\n",
    "\n",
    "# Compare the results\n",
    "print(\"Logistic Regression Accuracy: {:.2f}%\".format(lr_accuracy * 100))\n",
    "print(\"Naive Bayes Accuracy: {:.2f}%\".format(nb_accuracy * 100))\n",
    "print(\"K-Nearest Neighbors Accuracy: {:.2f}%\".format(knn_accuracy * 100))\n",
    "print(\"Decision Tree Accuracy: {:.2f}%\".format(dt_accuracy * 100))\n",
    "print(\"Support Vector Machines Accuracy: {:.2f}%\".format(svm_accuracy * 100))\n",
    "print(\"XGBoost Accuracy: {:.2f}%\".format(xgboost_accuracy * 100))\n"
   ]
  },
  {
   "cell_type": "code",
   "execution_count": null,
   "id": "e7934e7b-50e6-4607-818b-151d4603988b",
   "metadata": {},
   "outputs": [],
   "source": []
  }
 ],
 "metadata": {
  "kernelspec": {
   "display_name": "Python 3 (ipykernel)",
   "language": "python",
   "name": "python3"
  },
  "language_info": {
   "codemirror_mode": {
    "name": "ipython",
    "version": 3
   },
   "file_extension": ".py",
   "mimetype": "text/x-python",
   "name": "python",
   "nbconvert_exporter": "python",
   "pygments_lexer": "ipython3",
   "version": "3.9.13"
  }
 },
 "nbformat": 4,
 "nbformat_minor": 5
}
